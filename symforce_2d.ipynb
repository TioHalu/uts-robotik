{
  "nbformat": 4,
  "nbformat_minor": 0,
  "metadata": {
    "colab": {
      "provenance": []
    },
    "kernelspec": {
      "name": "python3",
      "display_name": "Python 3"
    },
    "language_info": {
      "name": "python"
    }
  },
  "cells": [
    {
      "cell_type": "code",
      "execution_count": 1,
      "metadata": {
        "colab": {
          "base_uri": "https://localhost:8080/"
        },
        "id": "7USGWbyyj1mn",
        "outputId": "4296b4d1-d94b-422b-cd39-0581710ee9e7"
      },
      "outputs": [
        {
          "output_type": "stream",
          "name": "stdout",
          "text": [
            "Looking in indexes: https://pypi.org/simple, https://us-python.pkg.dev/colab-wheels/public/simple/\n",
            "Collecting symforce\n",
            "  Downloading symforce-0.7.0-cp38-cp38-manylinux_2_17_x86_64.manylinux2014_x86_64.whl (4.4 MB)\n",
            "\u001b[K     |████████████████████████████████| 4.4 MB 5.2 MB/s \n",
            "\u001b[?25hCollecting clang-format\n",
            "  Downloading clang_format-15.0.4-py2.py3-none-manylinux_2_17_x86_64.manylinux2014_x86_64.whl (1.5 MB)\n",
            "\u001b[K     |████████████████████████████████| 1.5 MB 42.1 MB/s \n",
            "\u001b[?25hRequirement already satisfied: jinja2 in /usr/local/lib/python3.8/dist-packages (from symforce) (2.11.3)\n",
            "Requirement already satisfied: scipy in /usr/local/lib/python3.8/dist-packages (from symforce) (1.7.3)\n",
            "Collecting skymarshal==0.7.0\n",
            "  Downloading skymarshal-0.7.0-py3-none-any.whl (82 kB)\n",
            "\u001b[K     |████████████████████████████████| 82 kB 350 kB/s \n",
            "\u001b[?25hCollecting symforce-sym==0.7.0\n",
            "  Downloading symforce_sym-0.7.0-py3-none-any.whl (70 kB)\n",
            "\u001b[K     |████████████████████████████████| 70 kB 4.1 MB/s \n",
            "\u001b[?25hCollecting black\n",
            "  Downloading black-22.10.0-cp38-cp38-manylinux_2_17_x86_64.manylinux2014_x86_64.whl (1.5 MB)\n",
            "\u001b[K     |████████████████████████████████| 1.5 MB 49.5 MB/s \n",
            "\u001b[?25hRequirement already satisfied: graphviz in /usr/local/lib/python3.8/dist-packages (from symforce) (0.10.1)\n",
            "Requirement already satisfied: numpy in /usr/local/lib/python3.8/dist-packages (from symforce) (1.21.6)\n",
            "Collecting sympy~=1.11.1\n",
            "  Downloading sympy-1.11.1-py3-none-any.whl (6.5 MB)\n",
            "\u001b[K     |████████████████████████████████| 6.5 MB 29.0 MB/s \n",
            "\u001b[?25hRequirement already satisfied: six in /usr/local/lib/python3.8/dist-packages (from skymarshal==0.7.0->symforce) (1.15.0)\n",
            "Collecting ply\n",
            "  Downloading ply-3.11-py2.py3-none-any.whl (49 kB)\n",
            "\u001b[K     |████████████████████████████████| 49 kB 3.1 MB/s \n",
            "\u001b[?25hCollecting argh\n",
            "  Downloading argh-0.26.2-py2.py3-none-any.whl (30 kB)\n",
            "Requirement already satisfied: mpmath>=0.19 in /usr/local/lib/python3.8/dist-packages (from sympy~=1.11.1->symforce) (1.2.1)\n",
            "Requirement already satisfied: tomli>=1.1.0 in /usr/local/lib/python3.8/dist-packages (from black->symforce) (2.0.1)\n",
            "Collecting click>=8.0.0\n",
            "  Downloading click-8.1.3-py3-none-any.whl (96 kB)\n",
            "\u001b[K     |████████████████████████████████| 96 kB 2.9 MB/s \n",
            "\u001b[?25hCollecting mypy-extensions>=0.4.3\n",
            "  Downloading mypy_extensions-0.4.3-py2.py3-none-any.whl (4.5 kB)\n",
            "Requirement already satisfied: typing-extensions>=3.10.0.0 in /usr/local/lib/python3.8/dist-packages (from black->symforce) (4.1.1)\n",
            "Collecting platformdirs>=2\n",
            "  Downloading platformdirs-2.5.4-py3-none-any.whl (14 kB)\n",
            "Collecting pathspec>=0.9.0\n",
            "  Downloading pathspec-0.10.2-py3-none-any.whl (28 kB)\n",
            "Requirement already satisfied: MarkupSafe>=0.23 in /usr/local/lib/python3.8/dist-packages (from jinja2->symforce) (2.0.1)\n",
            "Installing collected packages: ply, platformdirs, pathspec, mypy-extensions, click, argh, sympy, symforce-sym, skymarshal, clang-format, black, symforce\n",
            "  Attempting uninstall: click\n",
            "    Found existing installation: click 7.1.2\n",
            "    Uninstalling click-7.1.2:\n",
            "      Successfully uninstalled click-7.1.2\n",
            "  Attempting uninstall: sympy\n",
            "    Found existing installation: sympy 1.7.1\n",
            "    Uninstalling sympy-1.7.1:\n",
            "      Successfully uninstalled sympy-1.7.1\n",
            "\u001b[31mERROR: pip's dependency resolver does not currently take into account all the packages that are installed. This behaviour is the source of the following dependency conflicts.\n",
            "flask 1.1.4 requires click<8.0,>=5.1, but you have click 8.1.3 which is incompatible.\u001b[0m\n",
            "Successfully installed argh-0.26.2 black-22.10.0 clang-format-15.0.4 click-8.1.3 mypy-extensions-0.4.3 pathspec-0.10.2 platformdirs-2.5.4 ply-3.11 skymarshal-0.7.0 symforce-0.7.0 symforce-sym-0.7.0 sympy-1.11.1\n"
          ]
        }
      ],
      "source": [
        "pip install symforce"
      ]
    },
    {
      "cell_type": "code",
      "source": [
        "import symforce\n",
        "\n",
        "symforce.set_epsilon_to_symbol()\n",
        "\n",
        "# -----------------------------------------------------------------------------\n",
        "# Import Library\n",
        "# -----------------------------------------------------------------------------\n",
        "import numpy as np\n",
        "\n",
        "from symforce import typing as T\n",
        "from symforce.values import Values\n",
        "import symforce.symbolic as sf\n"
      ],
      "metadata": {
        "id": "KlM2jOVmj3Yy"
      },
      "execution_count": 2,
      "outputs": []
    },
    {
      "cell_type": "code",
      "source": [
        "\n",
        "def build_initial_values() -> T.Tuple[Values, int, int]:\n",
        "  \n",
        "    num_poses = 3\n",
        "    num_landmarks = 3\n",
        "\n",
        "    initial_values = Values(\n",
        "        poses=[sf.Pose2.identity()] * num_poses,\n",
        "        landmarks=[sf.V2(-2, 2), sf.V2(1, -3), sf.V2(5, 2)],\n",
        "        distances=[1.7, 1.4],\n",
        "        angles=np.deg2rad([[55, 245, -35], [95, 220, -20], [125, 220, -20]]).tolist(),\n",
        "        epsilon=sf.numeric_epsilon,\n",
        "    )\n",
        "\n",
        "    return initial_values, num_poses, num_landmarks"
      ],
      "metadata": {
        "id": "QBI34mtykLPx"
      },
      "execution_count": 3,
      "outputs": []
    },
    {
      "cell_type": "code",
      "source": [
        "def bearing_residual(\n",
        "    pose: sf.Pose2, landmark: sf.V2, angle: sf.Scalar, epsilon: sf.Scalar\n",
        ") -> sf.V1:\n",
        "\n",
        "    t_body = pose.inverse() * landmark\n",
        "    predicted_angle = sf.atan2(t_body[1], t_body[0], epsilon=epsilon)\n",
        "    return sf.V1(sf.wrap_angle(predicted_angle - angle))\n"
      ],
      "metadata": {
        "id": "dFYO13EjkOF3"
      },
      "execution_count": 4,
      "outputs": []
    },
    {
      "cell_type": "code",
      "source": [
        "def odometry_residual(\n",
        "    pose_a: sf.Pose2, pose_b: sf.Pose2, dist: sf.Scalar, epsilon: sf.Scalar\n",
        ") -> sf.V1:\n",
        "   \n",
        "    return sf.V1((pose_b.t - pose_a.t).norm(epsilon=epsilon) - dist)\n",
        "\n",
        "\n",
        "from symforce.opt.factor import Factor\n"
      ],
      "metadata": {
        "id": "x9ArTRVckQ7C"
      },
      "execution_count": 5,
      "outputs": []
    },
    {
      "cell_type": "code",
      "source": [
        "def build_factors(num_poses: int, num_landmarks: int) -> T.Iterator[Factor]:\n",
        "   \n",
        "    for i in range(num_poses - 1):\n",
        "        yield Factor(\n",
        "            residual=odometry_residual,\n",
        "            keys=[f\"poses[{i}]\", f\"poses[{i + 1}]\", f\"distances[{i}]\", \"epsilon\"],\n",
        "        )\n",
        "\n",
        "    for i in range(num_poses):\n",
        "        for j in range(num_landmarks):\n",
        "            yield Factor(\n",
        "                residual=bearing_residual,\n",
        "                keys=[f\"poses[{i}]\", f\"landmarks[{j}]\", f\"angles[{i}][{j}]\", \"epsilon\"],\n",
        "            )\n"
      ],
      "metadata": {
        "id": "YuhpIXpNkTqp"
      },
      "execution_count": 6,
      "outputs": []
    },
    {
      "cell_type": "code",
      "source": [
        "from symforce.opt.optimizer import Optimizer\n",
        "\n",
        "\n",
        "def main() -> None:\n",
        "    initial_values, num_poses, num_landmarks = build_initial_values()\n",
        "\n",
        "    factors = build_factors(num_poses=num_poses, num_landmarks=num_landmarks)\n",
        "\n",
        "    optimized_keys = [f\"poses[{i}]\" for i in range(num_poses)]\n",
        "\n",
        "    optimizer = Optimizer(\n",
        "        factors=factors,\n",
        "        optimized_keys=optimized_keys,\n",
        "        debug_stats=True,  # Return problem stats for every iteration\n",
        "        params=Optimizer.Params(verbose=True),  # Customize optimizer behavior\n",
        "    )\n",
        "\n",
        "    result = optimizer.optimize(initial_values)\n",
        "\n",
        "    print(f\"Num iterations: {len(result.iteration_stats) - 1}\")\n",
        "    print(f\"Final error: {result.error():.6f}\")\n",
        "\n",
        "    for i, pose in enumerate(result.optimized_values[\"poses\"]):\n",
        "        print(f\"Pose {i}: t = {pose.position()}, heading = {pose.rotation().to_tangent()[0]}\")\n",
        "\n",
        "    from symforce.examples.robot_2d_localization.plotting import plot_solution\n",
        "\n",
        "    plot_solution(optimizer, result)\n",
        "\n"
      ],
      "metadata": {
        "id": "RCtd1au8kWFN"
      },
      "execution_count": 7,
      "outputs": []
    },
    {
      "cell_type": "code",
      "source": [
        "import shutil\n",
        "from pathlib import Path\n",
        "\n",
        "# -----------------------------------------------------------------------------\n",
        "# (Optional) Generate C++ functions for residuals with on-manifold jacobians\n",
        "# -----------------------------------------------------------------------------\n",
        "from symforce.codegen import Codegen\n",
        "from symforce.codegen import CppConfig\n",
        "\n",
        "\n",
        "def generate_bearing_residual_code(output_dir: Path = None, print_code: bool = False) -> None:\n",
        "    \"\"\"\n",
        "    Generate C++ code for the bearing residual function. A C++ Factor can then be\n",
        "    constructed and optimized from this function without any Python dependency.\n",
        "    \"\"\"\n",
        "    # Create a Codegen object for the symbolic residual function, targeted at C++\n",
        "    codegen = Codegen.function(bearing_residual, config=CppConfig())\n",
        "\n",
        "    # Generate the function and print the code\n",
        "    metadata = codegen.generate_function(output_dir=output_dir, skip_directory_nesting=True)\n",
        "    if print_code:\n",
        "        print(metadata.generated_files[0].read_text())\n",
        "\n",
        "    if output_dir is None:\n",
        "        shutil.rmtree(metadata.output_dir)\n",
        "\n",
        "    # Create a Codegen object that computes a linearization from the residual Codegen object,\n",
        "    # by introspecting and symbolically differentiating the given arguments\n",
        "    codegen_with_linearization = codegen.with_linearization(which_args=[\"pose\"])\n",
        "\n",
        "    # Generate the function and print the code\n",
        "    metadata = codegen_with_linearization.generate_function(\n",
        "        output_dir=output_dir, skip_directory_nesting=True\n",
        "    )\n",
        "    if print_code:\n",
        "        print(metadata.generated_files[0].read_text())\n",
        "\n",
        "    if output_dir is None:\n",
        "        shutil.rmtree(metadata.output_dir)\n"
      ],
      "metadata": {
        "id": "OH2gmUf0kbov"
      },
      "execution_count": 8,
      "outputs": []
    },
    {
      "cell_type": "code",
      "source": [
        "def generate_odometry_residual_code(output_dir: Path = None, print_code: bool = False) -> None:\n",
        "    \"\"\"\n",
        "    Generate C++ code for the odometry residual function. A C++ Factor can then be\n",
        "    constructed and optimized from this function without any Python dependency.\n",
        "    \"\"\"\n",
        "    # Create a Codegen object for the symbolic residual function, targeted at C++\n",
        "    codegen = Codegen.function(odometry_residual, config=CppConfig())\n",
        "\n",
        "    # Generate the function and print the code\n",
        "    metadata = codegen.generate_function(output_dir=output_dir, skip_directory_nesting=True)\n",
        "    if print_code:\n",
        "        print(metadata.generated_files[0].read_text())\n",
        "\n",
        "    if output_dir is None:\n",
        "        shutil.rmtree(metadata.output_dir)\n",
        "\n",
        "    # Create a Codegen object that computes a linearization from the residual Codegen object,\n",
        "    # by introspecting and symbolically differentiating the given arguments\n",
        "    codegen_with_linearization = codegen.with_linearization(which_args=[\"pose_a\", \"pose_b\"])\n",
        "\n",
        "    # Generate the function and print the code\n",
        "    metadata = codegen_with_linearization.generate_function(\n",
        "        output_dir=output_dir, skip_directory_nesting=True\n",
        "    )\n",
        "    if print_code:\n",
        "        print(metadata.generated_files[0].read_text())\n",
        "\n",
        "    if output_dir is None:\n",
        "        shutil.rmtree(metadata.output_dir)"
      ],
      "metadata": {
        "id": "EsCPxAu8kef9"
      },
      "execution_count": 9,
      "outputs": []
    },
    {
      "cell_type": "code",
      "source": [
        "if __name__ == \"__main__\":\n",
        "    main()"
      ],
      "metadata": {
        "colab": {
          "base_uri": "https://localhost:8080/",
          "height": 418
        },
        "id": "xei4Hzijkgq2",
        "outputId": "b54ce145-d44c-4611-897a-c7cf016e1ff7"
      },
      "execution_count": 10,
      "outputs": [
        {
          "output_type": "stream",
          "name": "stdout",
          "text": [
            "Num iterations: 8\n",
            "Final error: 0.000220\n",
            "Pose 0: t = [[-0.58303818]\n",
            " [-0.82449079]], heading = [1.073486]\n",
            "Pose 1: t = [[ 1.01671023]\n",
            " [-0.23835618]], heading = [0.85760621]\n",
            "Pose 2: t = [[1.79784992]\n",
            " [0.92055145]], heading = [0.67637098]\n"
          ]
        },
        {
          "output_type": "display_data",
          "data": {
            "text/plain": [
              "<Figure size 432x288 with 2 Axes>"
            ],
            "image/png": "[encoded data removed]"
          },
          "metadata": {
            "needs_background": "light"
          }
        }
      ]
    },
    {
      "cell_type": "code",
      "source": [],
      "metadata": {
        "id": "OJSFpdBKki7y"
      },
      "execution_count": null,
      "outputs": []
    }
  ]
}